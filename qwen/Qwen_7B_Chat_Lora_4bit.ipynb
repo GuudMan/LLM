{
 "cells": [
  {
   "cell_type": "markdown",
   "metadata": {},
   "source": [
    "#### 导入环境"
   ]
  },
  {
   "cell_type": "code",
   "execution_count": 20,
   "metadata": {},
   "outputs": [],
   "source": [
    "from datasets import Dataset\n",
    "import pandas as pd\n",
    "from transformers import AutoTokenizer, AutoModelForCausalLM, DataCollatorForSeq2Seq, TrainingArguments, Trainer"
   ]
  },
  {
   "cell_type": "code",
   "execution_count": 21,
   "metadata": {},
   "outputs": [],
   "source": [
    "# json转化为csv\n",
    "df= pd.read_json(\"./huanhuan.json\")\n",
    "ds = Dataset.from_pandas(df)"
   ]
  },
  {
   "cell_type": "code",
   "execution_count": 22,
   "metadata": {},
   "outputs": [
    {
     "data": {
      "text/plain": [
       "{'instruction': ['小姐，别的秀女都在求中选，唯有咱们小姐想被撂牌子，菩萨一定记得真真儿的——',\n",
       "  '这个温太医啊，也是古怪，谁不知太医不得皇命不能为皇族以外的人请脉诊病，他倒好，十天半月便往咱们府里跑。',\n",
       "  '嬛妹妹，刚刚我去府上请脉，听甄伯母说你来这里进香了。'],\n",
       " 'input': ['', '', ''],\n",
       " 'output': ['嘘——都说许愿说破是不灵的。', '你们俩话太多了，我该和温太医要一剂药，好好治治你们。', '出来走走，也是散心。']}"
      ]
     },
     "execution_count": 22,
     "metadata": {},
     "output_type": "execute_result"
    }
   ],
   "source": [
    "ds[:3]"
   ]
  },
  {
   "cell_type": "markdown",
   "metadata": {},
   "source": [
    "#### 处理数据集"
   ]
  },
  {
   "cell_type": "code",
   "execution_count": 23,
   "metadata": {},
   "outputs": [
    {
     "data": {
      "text/plain": [
       "QWenTokenizer(name_or_path='./qwen/Qwen-7B-Chat', vocab_size=151851, model_max_length=8192, is_fast=False, padding_side='right', truncation_side='right', special_tokens={'pad_token': '<|endoftext|>'}, clean_up_tokenization_spaces=True),  added_tokens_decoder={\n",
       "\t\n",
       "}"
      ]
     },
     "execution_count": 23,
     "metadata": {},
     "output_type": "execute_result"
    }
   ],
   "source": [
    "tokenizer = AutoTokenizer.from_pretrained(\"./qwen/Qwen-7B-Chat\", \n",
    "                                          use_fast=False, \n",
    "                                          trust_remote_code=True)\n",
    "tokenizer.pad_token_id = tokenizer.eod_id\n",
    "tokenizer"
   ]
  },
  {
   "cell_type": "code",
   "execution_count": 24,
   "metadata": {},
   "outputs": [],
   "source": [
    "def process_func(example):\n",
    "    MAX_LENGTH = 384    # Llama分词器会将一个中文字切分为多个token，因此需要放开一些最大长度，保证数据的完整性\n",
    "    input_ids, attention_mask, labels = [], [], []\n",
    "    instruction = tokenizer(\"\\n\".join([\"<|im_start|>system\", \"现在你要扮演皇帝身边的女人--甄嬛.<|im_end|>\" + \"\\n<|im_start|>user\\n\" + example[\"instruction\"] + example[\"input\"] + \"<|im_end|>\\n\"]).strip(), add_special_tokens=False)  # add_special_tokens 不在开头加 special_tokens\n",
    "    response = tokenizer(\"<|im_start|>assistant\\n\" + example[\"output\"] + \"<|im_end|>\\n\", add_special_tokens=False)\n",
    "    input_ids = instruction[\"input_ids\"] + response[\"input_ids\"] + [tokenizer.pad_token_id]\n",
    "    attention_mask = instruction[\"attention_mask\"] + response[\"attention_mask\"] + [1]  # 因为eos token咱们也是要关注的所以 补充为1\n",
    "    labels = [-100] * len(instruction[\"input_ids\"]) + response[\"input_ids\"] + [tokenizer.pad_token_id]  # Qwen的特殊构造就是这样的\n",
    "    if len(input_ids) > MAX_LENGTH:  # 做一个截断\n",
    "        input_ids = input_ids[:MAX_LENGTH]\n",
    "        attention_mask = attention_mask[:MAX_LENGTH]\n",
    "        labels = labels[:MAX_LENGTH]\n",
    "    return {\n",
    "        \"input_ids\": input_ids,\n",
    "        \"attention_mask\": attention_mask,\n",
    "        \"labels\": labels\n",
    "    }\n"
   ]
  },
  {
   "cell_type": "code",
   "execution_count": 25,
   "metadata": {},
   "outputs": [
    {
     "name": "stderr",
     "output_type": "stream",
     "text": [
      "Map: 100%|██████████| 3729/3729 [00:01<00:00, 3191.39 examples/s]\n"
     ]
    },
    {
     "data": {
      "text/plain": [
       "Dataset({\n",
       "    features: ['input_ids', 'attention_mask', 'labels'],\n",
       "    num_rows: 3729\n",
       "})"
      ]
     },
     "execution_count": 25,
     "metadata": {},
     "output_type": "execute_result"
    }
   ],
   "source": [
    "tokenized_id = ds.map(process_func, \n",
    "                      remove_columns=ds.column_names)\n",
    "tokenized_id"
   ]
  },
  {
   "cell_type": "code",
   "execution_count": 26,
   "metadata": {},
   "outputs": [
    {
     "data": {
      "text/plain": [
       "'<|im_start|>system\\n现在你要扮演皇帝身边的女人--甄嬛.<|im_end|>\\n<|im_start|>user\\n小姐，别的秀女都在求中选，唯有咱们小姐想被撂牌子，菩萨一定记得真真儿的——<|im_end|><|im_start|>assistant\\n嘘——都说许愿说破是不灵的。<|im_end|>\\n<|endoftext|>'"
      ]
     },
     "execution_count": 26,
     "metadata": {},
     "output_type": "execute_result"
    }
   ],
   "source": [
    "\n",
    "tokenizer.decode(tokenized_id[0]['input_ids'])"
   ]
  },
  {
   "cell_type": "code",
   "execution_count": 27,
   "metadata": {},
   "outputs": [
    {
     "data": {
      "text/plain": [
       "'<|im_start|>assistant\\n你们俩话太多了，我该和温太医要一剂药，好好治治你们。<|im_end|>\\n<|endoftext|>'"
      ]
     },
     "execution_count": 27,
     "metadata": {},
     "output_type": "execute_result"
    }
   ],
   "source": [
    "tokenizer.decode(list(filter(lambda x: x != -100, tokenized_id[1][\"labels\"])))"
   ]
  },
  {
   "cell_type": "markdown",
   "metadata": {},
   "source": [
    "#### 创建模型"
   ]
  },
  {
   "cell_type": "code",
   "execution_count": 28,
   "metadata": {},
   "outputs": [
    {
     "name": "stderr",
     "output_type": "stream",
     "text": [
      "Warning: please make sure that you are using the latest codes and checkpoints, especially if you used Qwen-7B before 09.25.2023.请使用最新模型和代码，尤其如果你在9月25日前已经开始使用Qwen-7B，千万注意不要使用错误代码和模型。\n",
      "The model is automatically converting to bf16 for faster inference. If you want to disable the automatic precision, please manually add bf16/fp16/fp32=True to \"AutoModelForCausalLM.from_pretrained\".\n",
      "Warning: import flash_attn rms_norm fail, please install FlashAttention layer_norm to get higher efficiency https://github.com/Dao-AILab/flash-attention/tree/main/csrc/layer_norm\n"
     ]
    },
    {
     "name": "stderr",
     "output_type": "stream",
     "text": [
      "Loading checkpoint shards: 100%|██████████| 8/8 [00:05<00:00,  1.48it/s]\n"
     ]
    },
    {
     "data": {
      "text/plain": [
       "QWenLMHeadModel(\n",
       "  (transformer): QWenModel(\n",
       "    (wte): Embedding(151936, 4096)\n",
       "    (drop): Dropout(p=0.0, inplace=False)\n",
       "    (rotary_emb): RotaryEmbedding()\n",
       "    (h): ModuleList(\n",
       "      (0-31): 32 x QWenBlock(\n",
       "        (ln_1): RMSNorm()\n",
       "        (attn): QWenAttention(\n",
       "          (c_attn): Linear4bit(in_features=4096, out_features=12288, bias=True)\n",
       "          (c_proj): Linear4bit(in_features=4096, out_features=4096, bias=False)\n",
       "          (core_attention_flash): FlashSelfAttention()\n",
       "          (attn_dropout): Dropout(p=0.0, inplace=False)\n",
       "        )\n",
       "        (ln_2): RMSNorm()\n",
       "        (mlp): QWenMLP(\n",
       "          (w1): Linear4bit(in_features=4096, out_features=11008, bias=False)\n",
       "          (w2): Linear4bit(in_features=4096, out_features=11008, bias=False)\n",
       "          (c_proj): Linear4bit(in_features=11008, out_features=4096, bias=False)\n",
       "        )\n",
       "      )\n",
       "    )\n",
       "    (ln_f): RMSNorm()\n",
       "  )\n",
       "  (lm_head): Linear(in_features=4096, out_features=151936, bias=False)\n",
       ")"
      ]
     },
     "execution_count": 28,
     "metadata": {},
     "output_type": "execute_result"
    }
   ],
   "source": [
    "import torch\n",
    "\n",
    "model = AutoModelForCausalLM.from_pretrained('./qwen/Qwen-7B-Chat/',\n",
    "                                                trust_remote_code=True, \n",
    "                                                torch_dtype=torch.half, \n",
    "                                                device_map=\"sequential\",\n",
    "                                                low_cpu_mem_usage=True,   # 是否使用cpu加速模型加载\n",
    "                                                load_in_4bit=True,  # 是否在4位精度下加载模型。如果设置为True，则在4位精度下加载模型。\n",
    "                                                bnb_4bit_compute_dtype=torch.half,  # 4位精度计算的数据类型。这里设置为torch.half，表示使用半精度浮点数。\n",
    "                                                bnb_4bit_quant_type=\"nf4\", # 4位精度量化的类型。这里设置为\"nf4\"，表示使用nf4量化类型。\n",
    "                                                bnb_4bit_use_double_quant=True  # 是否使用双精度量化。如果设置为True，则使用双精度量化。\n",
    "                                                )\n",
    "model"
   ]
  },
  {
   "cell_type": "code",
   "execution_count": 29,
   "metadata": {},
   "outputs": [
    {
     "name": "stdout",
     "output_type": "stream",
     "text": [
      "transformer.wte.weight torch.Size([151936, 4096]) torch.float16\n",
      "transformer.h.0.ln_1.weight torch.Size([4096]) torch.float16\n",
      "transformer.h.0.attn.c_attn.weight torch.Size([25165824, 1]) torch.uint8\n",
      "transformer.h.0.attn.c_attn.bias torch.Size([12288]) torch.float16\n",
      "transformer.h.0.attn.c_proj.weight torch.Size([8388608, 1]) torch.uint8\n",
      "transformer.h.0.ln_2.weight torch.Size([4096]) torch.float16\n",
      "transformer.h.0.mlp.w1.weight torch.Size([22544384, 1]) torch.uint8\n",
      "transformer.h.0.mlp.w2.weight torch.Size([22544384, 1]) torch.uint8\n",
      "transformer.h.0.mlp.c_proj.weight torch.Size([22544384, 1]) torch.uint8\n",
      "transformer.h.1.ln_1.weight torch.Size([4096]) torch.float16\n",
      "transformer.h.1.attn.c_attn.weight torch.Size([25165824, 1]) torch.uint8\n",
      "transformer.h.1.attn.c_attn.bias torch.Size([12288]) torch.float16\n",
      "transformer.h.1.attn.c_proj.weight torch.Size([8388608, 1]) torch.uint8\n",
      "transformer.h.1.ln_2.weight torch.Size([4096]) torch.float16\n",
      "transformer.h.1.mlp.w1.weight torch.Size([22544384, 1]) torch.uint8\n",
      "transformer.h.1.mlp.w2.weight torch.Size([22544384, 1]) torch.uint8\n",
      "transformer.h.1.mlp.c_proj.weight torch.Size([22544384, 1]) torch.uint8\n",
      "transformer.h.2.ln_1.weight torch.Size([4096]) torch.float16\n",
      "transformer.h.2.attn.c_attn.weight torch.Size([25165824, 1]) torch.uint8\n",
      "transformer.h.2.attn.c_attn.bias torch.Size([12288]) torch.float16\n",
      "transformer.h.2.attn.c_proj.weight torch.Size([8388608, 1]) torch.uint8\n",
      "transformer.h.2.ln_2.weight torch.Size([4096]) torch.float16\n",
      "transformer.h.2.mlp.w1.weight torch.Size([22544384, 1]) torch.uint8\n",
      "transformer.h.2.mlp.w2.weight torch.Size([22544384, 1]) torch.uint8\n",
      "transformer.h.2.mlp.c_proj.weight torch.Size([22544384, 1]) torch.uint8\n",
      "transformer.h.3.ln_1.weight torch.Size([4096]) torch.float16\n",
      "transformer.h.3.attn.c_attn.weight torch.Size([25165824, 1]) torch.uint8\n",
      "transformer.h.3.attn.c_attn.bias torch.Size([12288]) torch.float16\n",
      "transformer.h.3.attn.c_proj.weight torch.Size([8388608, 1]) torch.uint8\n",
      "transformer.h.3.ln_2.weight torch.Size([4096]) torch.float16\n",
      "transformer.h.3.mlp.w1.weight torch.Size([22544384, 1]) torch.uint8\n",
      "transformer.h.3.mlp.w2.weight torch.Size([22544384, 1]) torch.uint8\n",
      "transformer.h.3.mlp.c_proj.weight torch.Size([22544384, 1]) torch.uint8\n",
      "transformer.h.4.ln_1.weight torch.Size([4096]) torch.float16\n",
      "transformer.h.4.attn.c_attn.weight torch.Size([25165824, 1]) torch.uint8\n",
      "transformer.h.4.attn.c_attn.bias torch.Size([12288]) torch.float16\n",
      "transformer.h.4.attn.c_proj.weight torch.Size([8388608, 1]) torch.uint8\n",
      "transformer.h.4.ln_2.weight torch.Size([4096]) torch.float16\n",
      "transformer.h.4.mlp.w1.weight torch.Size([22544384, 1]) torch.uint8\n",
      "transformer.h.4.mlp.w2.weight torch.Size([22544384, 1]) torch.uint8\n",
      "transformer.h.4.mlp.c_proj.weight torch.Size([22544384, 1]) torch.uint8\n",
      "transformer.h.5.ln_1.weight torch.Size([4096]) torch.float16\n",
      "transformer.h.5.attn.c_attn.weight torch.Size([25165824, 1]) torch.uint8\n",
      "transformer.h.5.attn.c_attn.bias torch.Size([12288]) torch.float16\n",
      "transformer.h.5.attn.c_proj.weight torch.Size([8388608, 1]) torch.uint8\n",
      "transformer.h.5.ln_2.weight torch.Size([4096]) torch.float16\n",
      "transformer.h.5.mlp.w1.weight torch.Size([22544384, 1]) torch.uint8\n",
      "transformer.h.5.mlp.w2.weight torch.Size([22544384, 1]) torch.uint8\n",
      "transformer.h.5.mlp.c_proj.weight torch.Size([22544384, 1]) torch.uint8\n",
      "transformer.h.6.ln_1.weight torch.Size([4096]) torch.float16\n",
      "transformer.h.6.attn.c_attn.weight torch.Size([25165824, 1]) torch.uint8\n",
      "transformer.h.6.attn.c_attn.bias torch.Size([12288]) torch.float16\n",
      "transformer.h.6.attn.c_proj.weight torch.Size([8388608, 1]) torch.uint8\n",
      "transformer.h.6.ln_2.weight torch.Size([4096]) torch.float16\n",
      "transformer.h.6.mlp.w1.weight torch.Size([22544384, 1]) torch.uint8\n",
      "transformer.h.6.mlp.w2.weight torch.Size([22544384, 1]) torch.uint8\n",
      "transformer.h.6.mlp.c_proj.weight torch.Size([22544384, 1]) torch.uint8\n",
      "transformer.h.7.ln_1.weight torch.Size([4096]) torch.float16\n",
      "transformer.h.7.attn.c_attn.weight torch.Size([25165824, 1]) torch.uint8\n",
      "transformer.h.7.attn.c_attn.bias torch.Size([12288]) torch.float16\n",
      "transformer.h.7.attn.c_proj.weight torch.Size([8388608, 1]) torch.uint8\n",
      "transformer.h.7.ln_2.weight torch.Size([4096]) torch.float16\n",
      "transformer.h.7.mlp.w1.weight torch.Size([22544384, 1]) torch.uint8\n",
      "transformer.h.7.mlp.w2.weight torch.Size([22544384, 1]) torch.uint8\n",
      "transformer.h.7.mlp.c_proj.weight torch.Size([22544384, 1]) torch.uint8\n",
      "transformer.h.8.ln_1.weight torch.Size([4096]) torch.float16\n",
      "transformer.h.8.attn.c_attn.weight torch.Size([25165824, 1]) torch.uint8\n",
      "transformer.h.8.attn.c_attn.bias torch.Size([12288]) torch.float16\n",
      "transformer.h.8.attn.c_proj.weight torch.Size([8388608, 1]) torch.uint8\n",
      "transformer.h.8.ln_2.weight torch.Size([4096]) torch.float16\n",
      "transformer.h.8.mlp.w1.weight torch.Size([22544384, 1]) torch.uint8\n",
      "transformer.h.8.mlp.w2.weight torch.Size([22544384, 1]) torch.uint8\n",
      "transformer.h.8.mlp.c_proj.weight torch.Size([22544384, 1]) torch.uint8\n",
      "transformer.h.9.ln_1.weight torch.Size([4096]) torch.float16\n",
      "transformer.h.9.attn.c_attn.weight torch.Size([25165824, 1]) torch.uint8\n",
      "transformer.h.9.attn.c_attn.bias torch.Size([12288]) torch.float16\n",
      "transformer.h.9.attn.c_proj.weight torch.Size([8388608, 1]) torch.uint8\n",
      "transformer.h.9.ln_2.weight torch.Size([4096]) torch.float16\n",
      "transformer.h.9.mlp.w1.weight torch.Size([22544384, 1]) torch.uint8\n",
      "transformer.h.9.mlp.w2.weight torch.Size([22544384, 1]) torch.uint8\n",
      "transformer.h.9.mlp.c_proj.weight torch.Size([22544384, 1]) torch.uint8\n",
      "transformer.h.10.ln_1.weight torch.Size([4096]) torch.float16\n",
      "transformer.h.10.attn.c_attn.weight torch.Size([25165824, 1]) torch.uint8\n",
      "transformer.h.10.attn.c_attn.bias torch.Size([12288]) torch.float16\n",
      "transformer.h.10.attn.c_proj.weight torch.Size([8388608, 1]) torch.uint8\n",
      "transformer.h.10.ln_2.weight torch.Size([4096]) torch.float16\n",
      "transformer.h.10.mlp.w1.weight torch.Size([22544384, 1]) torch.uint8\n",
      "transformer.h.10.mlp.w2.weight torch.Size([22544384, 1]) torch.uint8\n",
      "transformer.h.10.mlp.c_proj.weight torch.Size([22544384, 1]) torch.uint8\n",
      "transformer.h.11.ln_1.weight torch.Size([4096]) torch.float16\n",
      "transformer.h.11.attn.c_attn.weight torch.Size([25165824, 1]) torch.uint8\n",
      "transformer.h.11.attn.c_attn.bias torch.Size([12288]) torch.float16\n",
      "transformer.h.11.attn.c_proj.weight torch.Size([8388608, 1]) torch.uint8\n",
      "transformer.h.11.ln_2.weight torch.Size([4096]) torch.float16\n",
      "transformer.h.11.mlp.w1.weight torch.Size([22544384, 1]) torch.uint8\n",
      "transformer.h.11.mlp.w2.weight torch.Size([22544384, 1]) torch.uint8\n",
      "transformer.h.11.mlp.c_proj.weight torch.Size([22544384, 1]) torch.uint8\n",
      "transformer.h.12.ln_1.weight torch.Size([4096]) torch.float16\n",
      "transformer.h.12.attn.c_attn.weight torch.Size([25165824, 1]) torch.uint8\n",
      "transformer.h.12.attn.c_attn.bias torch.Size([12288]) torch.float16\n",
      "transformer.h.12.attn.c_proj.weight torch.Size([8388608, 1]) torch.uint8\n",
      "transformer.h.12.ln_2.weight torch.Size([4096]) torch.float16\n",
      "transformer.h.12.mlp.w1.weight torch.Size([22544384, 1]) torch.uint8\n",
      "transformer.h.12.mlp.w2.weight torch.Size([22544384, 1]) torch.uint8\n",
      "transformer.h.12.mlp.c_proj.weight torch.Size([22544384, 1]) torch.uint8\n",
      "transformer.h.13.ln_1.weight torch.Size([4096]) torch.float16\n",
      "transformer.h.13.attn.c_attn.weight torch.Size([25165824, 1]) torch.uint8\n",
      "transformer.h.13.attn.c_attn.bias torch.Size([12288]) torch.float16\n",
      "transformer.h.13.attn.c_proj.weight torch.Size([8388608, 1]) torch.uint8\n",
      "transformer.h.13.ln_2.weight torch.Size([4096]) torch.float16\n",
      "transformer.h.13.mlp.w1.weight torch.Size([22544384, 1]) torch.uint8\n",
      "transformer.h.13.mlp.w2.weight torch.Size([22544384, 1]) torch.uint8\n",
      "transformer.h.13.mlp.c_proj.weight torch.Size([22544384, 1]) torch.uint8\n",
      "transformer.h.14.ln_1.weight torch.Size([4096]) torch.float16\n",
      "transformer.h.14.attn.c_attn.weight torch.Size([25165824, 1]) torch.uint8\n",
      "transformer.h.14.attn.c_attn.bias torch.Size([12288]) torch.float16\n",
      "transformer.h.14.attn.c_proj.weight torch.Size([8388608, 1]) torch.uint8\n",
      "transformer.h.14.ln_2.weight torch.Size([4096]) torch.float16\n",
      "transformer.h.14.mlp.w1.weight torch.Size([22544384, 1]) torch.uint8\n",
      "transformer.h.14.mlp.w2.weight torch.Size([22544384, 1]) torch.uint8\n",
      "transformer.h.14.mlp.c_proj.weight torch.Size([22544384, 1]) torch.uint8\n",
      "transformer.h.15.ln_1.weight torch.Size([4096]) torch.float16\n",
      "transformer.h.15.attn.c_attn.weight torch.Size([25165824, 1]) torch.uint8\n",
      "transformer.h.15.attn.c_attn.bias torch.Size([12288]) torch.float16\n",
      "transformer.h.15.attn.c_proj.weight torch.Size([8388608, 1]) torch.uint8\n",
      "transformer.h.15.ln_2.weight torch.Size([4096]) torch.float16\n",
      "transformer.h.15.mlp.w1.weight torch.Size([22544384, 1]) torch.uint8\n",
      "transformer.h.15.mlp.w2.weight torch.Size([22544384, 1]) torch.uint8\n",
      "transformer.h.15.mlp.c_proj.weight torch.Size([22544384, 1]) torch.uint8\n",
      "transformer.h.16.ln_1.weight torch.Size([4096]) torch.float16\n",
      "transformer.h.16.attn.c_attn.weight torch.Size([25165824, 1]) torch.uint8\n",
      "transformer.h.16.attn.c_attn.bias torch.Size([12288]) torch.float16\n",
      "transformer.h.16.attn.c_proj.weight torch.Size([8388608, 1]) torch.uint8\n",
      "transformer.h.16.ln_2.weight torch.Size([4096]) torch.float16\n",
      "transformer.h.16.mlp.w1.weight torch.Size([22544384, 1]) torch.uint8\n",
      "transformer.h.16.mlp.w2.weight torch.Size([22544384, 1]) torch.uint8\n",
      "transformer.h.16.mlp.c_proj.weight torch.Size([22544384, 1]) torch.uint8\n",
      "transformer.h.17.ln_1.weight torch.Size([4096]) torch.float16\n",
      "transformer.h.17.attn.c_attn.weight torch.Size([25165824, 1]) torch.uint8\n",
      "transformer.h.17.attn.c_attn.bias torch.Size([12288]) torch.float16\n",
      "transformer.h.17.attn.c_proj.weight torch.Size([8388608, 1]) torch.uint8\n",
      "transformer.h.17.ln_2.weight torch.Size([4096]) torch.float16\n",
      "transformer.h.17.mlp.w1.weight torch.Size([22544384, 1]) torch.uint8\n",
      "transformer.h.17.mlp.w2.weight torch.Size([22544384, 1]) torch.uint8\n",
      "transformer.h.17.mlp.c_proj.weight torch.Size([22544384, 1]) torch.uint8\n",
      "transformer.h.18.ln_1.weight torch.Size([4096]) torch.float16\n",
      "transformer.h.18.attn.c_attn.weight torch.Size([25165824, 1]) torch.uint8\n",
      "transformer.h.18.attn.c_attn.bias torch.Size([12288]) torch.float16\n",
      "transformer.h.18.attn.c_proj.weight torch.Size([8388608, 1]) torch.uint8\n",
      "transformer.h.18.ln_2.weight torch.Size([4096]) torch.float16\n",
      "transformer.h.18.mlp.w1.weight torch.Size([22544384, 1]) torch.uint8\n",
      "transformer.h.18.mlp.w2.weight torch.Size([22544384, 1]) torch.uint8\n",
      "transformer.h.18.mlp.c_proj.weight torch.Size([22544384, 1]) torch.uint8\n",
      "transformer.h.19.ln_1.weight torch.Size([4096]) torch.float16\n",
      "transformer.h.19.attn.c_attn.weight torch.Size([25165824, 1]) torch.uint8\n",
      "transformer.h.19.attn.c_attn.bias torch.Size([12288]) torch.float16\n",
      "transformer.h.19.attn.c_proj.weight torch.Size([8388608, 1]) torch.uint8\n",
      "transformer.h.19.ln_2.weight torch.Size([4096]) torch.float16\n",
      "transformer.h.19.mlp.w1.weight torch.Size([22544384, 1]) torch.uint8\n",
      "transformer.h.19.mlp.w2.weight torch.Size([22544384, 1]) torch.uint8\n",
      "transformer.h.19.mlp.c_proj.weight torch.Size([22544384, 1]) torch.uint8\n",
      "transformer.h.20.ln_1.weight torch.Size([4096]) torch.float16\n",
      "transformer.h.20.attn.c_attn.weight torch.Size([25165824, 1]) torch.uint8\n",
      "transformer.h.20.attn.c_attn.bias torch.Size([12288]) torch.float16\n",
      "transformer.h.20.attn.c_proj.weight torch.Size([8388608, 1]) torch.uint8\n",
      "transformer.h.20.ln_2.weight torch.Size([4096]) torch.float16\n",
      "transformer.h.20.mlp.w1.weight torch.Size([22544384, 1]) torch.uint8\n",
      "transformer.h.20.mlp.w2.weight torch.Size([22544384, 1]) torch.uint8\n",
      "transformer.h.20.mlp.c_proj.weight torch.Size([22544384, 1]) torch.uint8\n",
      "transformer.h.21.ln_1.weight torch.Size([4096]) torch.float16\n",
      "transformer.h.21.attn.c_attn.weight torch.Size([25165824, 1]) torch.uint8\n",
      "transformer.h.21.attn.c_attn.bias torch.Size([12288]) torch.float16\n",
      "transformer.h.21.attn.c_proj.weight torch.Size([8388608, 1]) torch.uint8\n",
      "transformer.h.21.ln_2.weight torch.Size([4096]) torch.float16\n",
      "transformer.h.21.mlp.w1.weight torch.Size([22544384, 1]) torch.uint8\n",
      "transformer.h.21.mlp.w2.weight torch.Size([22544384, 1]) torch.uint8\n",
      "transformer.h.21.mlp.c_proj.weight torch.Size([22544384, 1]) torch.uint8\n",
      "transformer.h.22.ln_1.weight torch.Size([4096]) torch.float16\n",
      "transformer.h.22.attn.c_attn.weight torch.Size([25165824, 1]) torch.uint8\n",
      "transformer.h.22.attn.c_attn.bias torch.Size([12288]) torch.float16\n",
      "transformer.h.22.attn.c_proj.weight torch.Size([8388608, 1]) torch.uint8\n",
      "transformer.h.22.ln_2.weight torch.Size([4096]) torch.float16\n",
      "transformer.h.22.mlp.w1.weight torch.Size([22544384, 1]) torch.uint8\n",
      "transformer.h.22.mlp.w2.weight torch.Size([22544384, 1]) torch.uint8\n",
      "transformer.h.22.mlp.c_proj.weight torch.Size([22544384, 1]) torch.uint8\n",
      "transformer.h.23.ln_1.weight torch.Size([4096]) torch.float16\n",
      "transformer.h.23.attn.c_attn.weight torch.Size([25165824, 1]) torch.uint8\n",
      "transformer.h.23.attn.c_attn.bias torch.Size([12288]) torch.float16\n",
      "transformer.h.23.attn.c_proj.weight torch.Size([8388608, 1]) torch.uint8\n",
      "transformer.h.23.ln_2.weight torch.Size([4096]) torch.float16\n",
      "transformer.h.23.mlp.w1.weight torch.Size([22544384, 1]) torch.uint8\n",
      "transformer.h.23.mlp.w2.weight torch.Size([22544384, 1]) torch.uint8\n",
      "transformer.h.23.mlp.c_proj.weight torch.Size([22544384, 1]) torch.uint8\n",
      "transformer.h.24.ln_1.weight torch.Size([4096]) torch.float16\n",
      "transformer.h.24.attn.c_attn.weight torch.Size([25165824, 1]) torch.uint8\n",
      "transformer.h.24.attn.c_attn.bias torch.Size([12288]) torch.float16\n",
      "transformer.h.24.attn.c_proj.weight torch.Size([8388608, 1]) torch.uint8\n",
      "transformer.h.24.ln_2.weight torch.Size([4096]) torch.float16\n",
      "transformer.h.24.mlp.w1.weight torch.Size([22544384, 1]) torch.uint8\n",
      "transformer.h.24.mlp.w2.weight torch.Size([22544384, 1]) torch.uint8\n",
      "transformer.h.24.mlp.c_proj.weight torch.Size([22544384, 1]) torch.uint8\n",
      "transformer.h.25.ln_1.weight torch.Size([4096]) torch.float16\n",
      "transformer.h.25.attn.c_attn.weight torch.Size([25165824, 1]) torch.uint8\n",
      "transformer.h.25.attn.c_attn.bias torch.Size([12288]) torch.float16\n",
      "transformer.h.25.attn.c_proj.weight torch.Size([8388608, 1]) torch.uint8\n",
      "transformer.h.25.ln_2.weight torch.Size([4096]) torch.float16\n",
      "transformer.h.25.mlp.w1.weight torch.Size([22544384, 1]) torch.uint8\n",
      "transformer.h.25.mlp.w2.weight torch.Size([22544384, 1]) torch.uint8\n",
      "transformer.h.25.mlp.c_proj.weight torch.Size([22544384, 1]) torch.uint8\n",
      "transformer.h.26.ln_1.weight torch.Size([4096]) torch.float16\n",
      "transformer.h.26.attn.c_attn.weight torch.Size([25165824, 1]) torch.uint8\n",
      "transformer.h.26.attn.c_attn.bias torch.Size([12288]) torch.float16\n",
      "transformer.h.26.attn.c_proj.weight torch.Size([8388608, 1]) torch.uint8\n",
      "transformer.h.26.ln_2.weight torch.Size([4096]) torch.float16\n",
      "transformer.h.26.mlp.w1.weight torch.Size([22544384, 1]) torch.uint8\n",
      "transformer.h.26.mlp.w2.weight torch.Size([22544384, 1]) torch.uint8\n",
      "transformer.h.26.mlp.c_proj.weight torch.Size([22544384, 1]) torch.uint8\n",
      "transformer.h.27.ln_1.weight torch.Size([4096]) torch.float16\n",
      "transformer.h.27.attn.c_attn.weight torch.Size([25165824, 1]) torch.uint8\n",
      "transformer.h.27.attn.c_attn.bias torch.Size([12288]) torch.float16\n",
      "transformer.h.27.attn.c_proj.weight torch.Size([8388608, 1]) torch.uint8\n",
      "transformer.h.27.ln_2.weight torch.Size([4096]) torch.float16\n",
      "transformer.h.27.mlp.w1.weight torch.Size([22544384, 1]) torch.uint8\n",
      "transformer.h.27.mlp.w2.weight torch.Size([22544384, 1]) torch.uint8\n",
      "transformer.h.27.mlp.c_proj.weight torch.Size([22544384, 1]) torch.uint8\n",
      "transformer.h.28.ln_1.weight torch.Size([4096]) torch.float16\n",
      "transformer.h.28.attn.c_attn.weight torch.Size([25165824, 1]) torch.uint8\n",
      "transformer.h.28.attn.c_attn.bias torch.Size([12288]) torch.float16\n",
      "transformer.h.28.attn.c_proj.weight torch.Size([8388608, 1]) torch.uint8\n",
      "transformer.h.28.ln_2.weight torch.Size([4096]) torch.float16\n",
      "transformer.h.28.mlp.w1.weight torch.Size([22544384, 1]) torch.uint8\n",
      "transformer.h.28.mlp.w2.weight torch.Size([22544384, 1]) torch.uint8\n",
      "transformer.h.28.mlp.c_proj.weight torch.Size([22544384, 1]) torch.uint8\n",
      "transformer.h.29.ln_1.weight torch.Size([4096]) torch.float16\n",
      "transformer.h.29.attn.c_attn.weight torch.Size([25165824, 1]) torch.uint8\n",
      "transformer.h.29.attn.c_attn.bias torch.Size([12288]) torch.float16\n",
      "transformer.h.29.attn.c_proj.weight torch.Size([8388608, 1]) torch.uint8\n",
      "transformer.h.29.ln_2.weight torch.Size([4096]) torch.float16\n",
      "transformer.h.29.mlp.w1.weight torch.Size([22544384, 1]) torch.uint8\n",
      "transformer.h.29.mlp.w2.weight torch.Size([22544384, 1]) torch.uint8\n",
      "transformer.h.29.mlp.c_proj.weight torch.Size([22544384, 1]) torch.uint8\n",
      "transformer.h.30.ln_1.weight torch.Size([4096]) torch.float16\n",
      "transformer.h.30.attn.c_attn.weight torch.Size([25165824, 1]) torch.uint8\n",
      "transformer.h.30.attn.c_attn.bias torch.Size([12288]) torch.float16\n",
      "transformer.h.30.attn.c_proj.weight torch.Size([8388608, 1]) torch.uint8\n",
      "transformer.h.30.ln_2.weight torch.Size([4096]) torch.float16\n",
      "transformer.h.30.mlp.w1.weight torch.Size([22544384, 1]) torch.uint8\n",
      "transformer.h.30.mlp.w2.weight torch.Size([22544384, 1]) torch.uint8\n",
      "transformer.h.30.mlp.c_proj.weight torch.Size([22544384, 1]) torch.uint8\n",
      "transformer.h.31.ln_1.weight torch.Size([4096]) torch.float16\n",
      "transformer.h.31.attn.c_attn.weight torch.Size([25165824, 1]) torch.uint8\n",
      "transformer.h.31.attn.c_attn.bias torch.Size([12288]) torch.float16\n",
      "transformer.h.31.attn.c_proj.weight torch.Size([8388608, 1]) torch.uint8\n",
      "transformer.h.31.ln_2.weight torch.Size([4096]) torch.float16\n",
      "transformer.h.31.mlp.w1.weight torch.Size([22544384, 1]) torch.uint8\n",
      "transformer.h.31.mlp.w2.weight torch.Size([22544384, 1]) torch.uint8\n",
      "transformer.h.31.mlp.c_proj.weight torch.Size([22544384, 1]) torch.uint8\n",
      "transformer.ln_f.weight torch.Size([4096]) torch.float16\n",
      "lm_head.weight torch.Size([151936, 4096]) torch.float16\n"
     ]
    }
   ],
   "source": [
    "for name, param in model.named_parameters():\n",
    "    print(name, param.shape, param.dtype)"
   ]
  },
  {
   "cell_type": "code",
   "execution_count": 30,
   "metadata": {},
   "outputs": [
    {
     "data": {
      "text/plain": [
       "{'': 0}"
      ]
     },
     "execution_count": 30,
     "metadata": {},
     "output_type": "execute_result"
    }
   ],
   "source": [
    "model.hf_device_map"
   ]
  },
  {
   "cell_type": "code",
   "execution_count": 31,
   "metadata": {},
   "outputs": [],
   "source": [
    "model.enable_input_require_grads() # 开启梯度检查点时，要执行该方法\n"
   ]
  },
  {
   "cell_type": "code",
   "execution_count": 32,
   "metadata": {},
   "outputs": [
    {
     "data": {
      "text/plain": [
       "torch.float16"
      ]
     },
     "execution_count": 32,
     "metadata": {},
     "output_type": "execute_result"
    }
   ],
   "source": [
    "model.dtype"
   ]
  },
  {
   "cell_type": "markdown",
   "metadata": {},
   "source": [
    "#### 配置LoRA时,打印model所有参数层名,方便观察target_modules"
   ]
  },
  {
   "cell_type": "code",
   "execution_count": 33,
   "metadata": {},
   "outputs": [
    {
     "name": "stdout",
     "output_type": "stream",
     "text": [
      "transformer.wte.weight\n",
      "transformer.h.0.ln_1.weight\n",
      "transformer.h.0.attn.c_attn.weight\n",
      "transformer.h.0.attn.c_attn.bias\n",
      "transformer.h.0.attn.c_proj.weight\n",
      "transformer.h.0.ln_2.weight\n",
      "transformer.h.0.mlp.w1.weight\n",
      "transformer.h.0.mlp.w2.weight\n",
      "transformer.h.0.mlp.c_proj.weight\n",
      "transformer.h.1.ln_1.weight\n",
      "transformer.h.1.attn.c_attn.weight\n",
      "transformer.h.1.attn.c_attn.bias\n",
      "transformer.h.1.attn.c_proj.weight\n",
      "transformer.h.1.ln_2.weight\n",
      "transformer.h.1.mlp.w1.weight\n",
      "transformer.h.1.mlp.w2.weight\n",
      "transformer.h.1.mlp.c_proj.weight\n",
      "transformer.h.2.ln_1.weight\n",
      "transformer.h.2.attn.c_attn.weight\n",
      "transformer.h.2.attn.c_attn.bias\n",
      "transformer.h.2.attn.c_proj.weight\n",
      "transformer.h.2.ln_2.weight\n",
      "transformer.h.2.mlp.w1.weight\n",
      "transformer.h.2.mlp.w2.weight\n",
      "transformer.h.2.mlp.c_proj.weight\n",
      "transformer.h.3.ln_1.weight\n",
      "transformer.h.3.attn.c_attn.weight\n",
      "transformer.h.3.attn.c_attn.bias\n",
      "transformer.h.3.attn.c_proj.weight\n",
      "transformer.h.3.ln_2.weight\n",
      "transformer.h.3.mlp.w1.weight\n",
      "transformer.h.3.mlp.w2.weight\n",
      "transformer.h.3.mlp.c_proj.weight\n",
      "transformer.h.4.ln_1.weight\n",
      "transformer.h.4.attn.c_attn.weight\n",
      "transformer.h.4.attn.c_attn.bias\n",
      "transformer.h.4.attn.c_proj.weight\n",
      "transformer.h.4.ln_2.weight\n",
      "transformer.h.4.mlp.w1.weight\n",
      "transformer.h.4.mlp.w2.weight\n",
      "transformer.h.4.mlp.c_proj.weight\n",
      "transformer.h.5.ln_1.weight\n",
      "transformer.h.5.attn.c_attn.weight\n",
      "transformer.h.5.attn.c_attn.bias\n",
      "transformer.h.5.attn.c_proj.weight\n",
      "transformer.h.5.ln_2.weight\n",
      "transformer.h.5.mlp.w1.weight\n",
      "transformer.h.5.mlp.w2.weight\n",
      "transformer.h.5.mlp.c_proj.weight\n",
      "transformer.h.6.ln_1.weight\n",
      "transformer.h.6.attn.c_attn.weight\n",
      "transformer.h.6.attn.c_attn.bias\n",
      "transformer.h.6.attn.c_proj.weight\n",
      "transformer.h.6.ln_2.weight\n",
      "transformer.h.6.mlp.w1.weight\n",
      "transformer.h.6.mlp.w2.weight\n",
      "transformer.h.6.mlp.c_proj.weight\n",
      "transformer.h.7.ln_1.weight\n",
      "transformer.h.7.attn.c_attn.weight\n",
      "transformer.h.7.attn.c_attn.bias\n",
      "transformer.h.7.attn.c_proj.weight\n",
      "transformer.h.7.ln_2.weight\n",
      "transformer.h.7.mlp.w1.weight\n",
      "transformer.h.7.mlp.w2.weight\n",
      "transformer.h.7.mlp.c_proj.weight\n",
      "transformer.h.8.ln_1.weight\n",
      "transformer.h.8.attn.c_attn.weight\n",
      "transformer.h.8.attn.c_attn.bias\n",
      "transformer.h.8.attn.c_proj.weight\n",
      "transformer.h.8.ln_2.weight\n",
      "transformer.h.8.mlp.w1.weight\n",
      "transformer.h.8.mlp.w2.weight\n",
      "transformer.h.8.mlp.c_proj.weight\n",
      "transformer.h.9.ln_1.weight\n",
      "transformer.h.9.attn.c_attn.weight\n",
      "transformer.h.9.attn.c_attn.bias\n",
      "transformer.h.9.attn.c_proj.weight\n",
      "transformer.h.9.ln_2.weight\n",
      "transformer.h.9.mlp.w1.weight\n",
      "transformer.h.9.mlp.w2.weight\n",
      "transformer.h.9.mlp.c_proj.weight\n",
      "transformer.h.10.ln_1.weight\n",
      "transformer.h.10.attn.c_attn.weight\n",
      "transformer.h.10.attn.c_attn.bias\n",
      "transformer.h.10.attn.c_proj.weight\n",
      "transformer.h.10.ln_2.weight\n",
      "transformer.h.10.mlp.w1.weight\n",
      "transformer.h.10.mlp.w2.weight\n",
      "transformer.h.10.mlp.c_proj.weight\n",
      "transformer.h.11.ln_1.weight\n",
      "transformer.h.11.attn.c_attn.weight\n",
      "transformer.h.11.attn.c_attn.bias\n",
      "transformer.h.11.attn.c_proj.weight\n",
      "transformer.h.11.ln_2.weight\n",
      "transformer.h.11.mlp.w1.weight\n",
      "transformer.h.11.mlp.w2.weight\n",
      "transformer.h.11.mlp.c_proj.weight\n",
      "transformer.h.12.ln_1.weight\n",
      "transformer.h.12.attn.c_attn.weight\n",
      "transformer.h.12.attn.c_attn.bias\n",
      "transformer.h.12.attn.c_proj.weight\n",
      "transformer.h.12.ln_2.weight\n",
      "transformer.h.12.mlp.w1.weight\n",
      "transformer.h.12.mlp.w2.weight\n",
      "transformer.h.12.mlp.c_proj.weight\n",
      "transformer.h.13.ln_1.weight\n",
      "transformer.h.13.attn.c_attn.weight\n",
      "transformer.h.13.attn.c_attn.bias\n",
      "transformer.h.13.attn.c_proj.weight\n",
      "transformer.h.13.ln_2.weight\n",
      "transformer.h.13.mlp.w1.weight\n",
      "transformer.h.13.mlp.w2.weight\n",
      "transformer.h.13.mlp.c_proj.weight\n",
      "transformer.h.14.ln_1.weight\n",
      "transformer.h.14.attn.c_attn.weight\n",
      "transformer.h.14.attn.c_attn.bias\n",
      "transformer.h.14.attn.c_proj.weight\n",
      "transformer.h.14.ln_2.weight\n",
      "transformer.h.14.mlp.w1.weight\n",
      "transformer.h.14.mlp.w2.weight\n",
      "transformer.h.14.mlp.c_proj.weight\n",
      "transformer.h.15.ln_1.weight\n",
      "transformer.h.15.attn.c_attn.weight\n",
      "transformer.h.15.attn.c_attn.bias\n",
      "transformer.h.15.attn.c_proj.weight\n",
      "transformer.h.15.ln_2.weight\n",
      "transformer.h.15.mlp.w1.weight\n",
      "transformer.h.15.mlp.w2.weight\n",
      "transformer.h.15.mlp.c_proj.weight\n",
      "transformer.h.16.ln_1.weight\n",
      "transformer.h.16.attn.c_attn.weight\n",
      "transformer.h.16.attn.c_attn.bias\n",
      "transformer.h.16.attn.c_proj.weight\n",
      "transformer.h.16.ln_2.weight\n",
      "transformer.h.16.mlp.w1.weight\n",
      "transformer.h.16.mlp.w2.weight\n",
      "transformer.h.16.mlp.c_proj.weight\n",
      "transformer.h.17.ln_1.weight\n",
      "transformer.h.17.attn.c_attn.weight\n",
      "transformer.h.17.attn.c_attn.bias\n",
      "transformer.h.17.attn.c_proj.weight\n",
      "transformer.h.17.ln_2.weight\n",
      "transformer.h.17.mlp.w1.weight\n",
      "transformer.h.17.mlp.w2.weight\n",
      "transformer.h.17.mlp.c_proj.weight\n",
      "transformer.h.18.ln_1.weight\n",
      "transformer.h.18.attn.c_attn.weight\n",
      "transformer.h.18.attn.c_attn.bias\n",
      "transformer.h.18.attn.c_proj.weight\n",
      "transformer.h.18.ln_2.weight\n",
      "transformer.h.18.mlp.w1.weight\n",
      "transformer.h.18.mlp.w2.weight\n",
      "transformer.h.18.mlp.c_proj.weight\n",
      "transformer.h.19.ln_1.weight\n",
      "transformer.h.19.attn.c_attn.weight\n",
      "transformer.h.19.attn.c_attn.bias\n",
      "transformer.h.19.attn.c_proj.weight\n",
      "transformer.h.19.ln_2.weight\n",
      "transformer.h.19.mlp.w1.weight\n",
      "transformer.h.19.mlp.w2.weight\n",
      "transformer.h.19.mlp.c_proj.weight\n",
      "transformer.h.20.ln_1.weight\n",
      "transformer.h.20.attn.c_attn.weight\n",
      "transformer.h.20.attn.c_attn.bias\n",
      "transformer.h.20.attn.c_proj.weight\n",
      "transformer.h.20.ln_2.weight\n",
      "transformer.h.20.mlp.w1.weight\n",
      "transformer.h.20.mlp.w2.weight\n",
      "transformer.h.20.mlp.c_proj.weight\n",
      "transformer.h.21.ln_1.weight\n",
      "transformer.h.21.attn.c_attn.weight\n",
      "transformer.h.21.attn.c_attn.bias\n",
      "transformer.h.21.attn.c_proj.weight\n",
      "transformer.h.21.ln_2.weight\n",
      "transformer.h.21.mlp.w1.weight\n",
      "transformer.h.21.mlp.w2.weight\n",
      "transformer.h.21.mlp.c_proj.weight\n",
      "transformer.h.22.ln_1.weight\n",
      "transformer.h.22.attn.c_attn.weight\n",
      "transformer.h.22.attn.c_attn.bias\n",
      "transformer.h.22.attn.c_proj.weight\n",
      "transformer.h.22.ln_2.weight\n",
      "transformer.h.22.mlp.w1.weight\n",
      "transformer.h.22.mlp.w2.weight\n",
      "transformer.h.22.mlp.c_proj.weight\n",
      "transformer.h.23.ln_1.weight\n",
      "transformer.h.23.attn.c_attn.weight\n",
      "transformer.h.23.attn.c_attn.bias\n",
      "transformer.h.23.attn.c_proj.weight\n",
      "transformer.h.23.ln_2.weight\n",
      "transformer.h.23.mlp.w1.weight\n",
      "transformer.h.23.mlp.w2.weight\n",
      "transformer.h.23.mlp.c_proj.weight\n",
      "transformer.h.24.ln_1.weight\n",
      "transformer.h.24.attn.c_attn.weight\n",
      "transformer.h.24.attn.c_attn.bias\n",
      "transformer.h.24.attn.c_proj.weight\n",
      "transformer.h.24.ln_2.weight\n",
      "transformer.h.24.mlp.w1.weight\n",
      "transformer.h.24.mlp.w2.weight\n",
      "transformer.h.24.mlp.c_proj.weight\n",
      "transformer.h.25.ln_1.weight\n",
      "transformer.h.25.attn.c_attn.weight\n",
      "transformer.h.25.attn.c_attn.bias\n",
      "transformer.h.25.attn.c_proj.weight\n",
      "transformer.h.25.ln_2.weight\n",
      "transformer.h.25.mlp.w1.weight\n",
      "transformer.h.25.mlp.w2.weight\n",
      "transformer.h.25.mlp.c_proj.weight\n",
      "transformer.h.26.ln_1.weight\n",
      "transformer.h.26.attn.c_attn.weight\n",
      "transformer.h.26.attn.c_attn.bias\n",
      "transformer.h.26.attn.c_proj.weight\n",
      "transformer.h.26.ln_2.weight\n",
      "transformer.h.26.mlp.w1.weight\n",
      "transformer.h.26.mlp.w2.weight\n",
      "transformer.h.26.mlp.c_proj.weight\n",
      "transformer.h.27.ln_1.weight\n",
      "transformer.h.27.attn.c_attn.weight\n",
      "transformer.h.27.attn.c_attn.bias\n",
      "transformer.h.27.attn.c_proj.weight\n",
      "transformer.h.27.ln_2.weight\n",
      "transformer.h.27.mlp.w1.weight\n",
      "transformer.h.27.mlp.w2.weight\n",
      "transformer.h.27.mlp.c_proj.weight\n",
      "transformer.h.28.ln_1.weight\n",
      "transformer.h.28.attn.c_attn.weight\n",
      "transformer.h.28.attn.c_attn.bias\n",
      "transformer.h.28.attn.c_proj.weight\n",
      "transformer.h.28.ln_2.weight\n",
      "transformer.h.28.mlp.w1.weight\n",
      "transformer.h.28.mlp.w2.weight\n",
      "transformer.h.28.mlp.c_proj.weight\n",
      "transformer.h.29.ln_1.weight\n",
      "transformer.h.29.attn.c_attn.weight\n",
      "transformer.h.29.attn.c_attn.bias\n",
      "transformer.h.29.attn.c_proj.weight\n",
      "transformer.h.29.ln_2.weight\n",
      "transformer.h.29.mlp.w1.weight\n",
      "transformer.h.29.mlp.w2.weight\n",
      "transformer.h.29.mlp.c_proj.weight\n",
      "transformer.h.30.ln_1.weight\n",
      "transformer.h.30.attn.c_attn.weight\n",
      "transformer.h.30.attn.c_attn.bias\n",
      "transformer.h.30.attn.c_proj.weight\n",
      "transformer.h.30.ln_2.weight\n",
      "transformer.h.30.mlp.w1.weight\n",
      "transformer.h.30.mlp.w2.weight\n",
      "transformer.h.30.mlp.c_proj.weight\n",
      "transformer.h.31.ln_1.weight\n",
      "transformer.h.31.attn.c_attn.weight\n",
      "transformer.h.31.attn.c_attn.bias\n",
      "transformer.h.31.attn.c_proj.weight\n",
      "transformer.h.31.ln_2.weight\n",
      "transformer.h.31.mlp.w1.weight\n",
      "transformer.h.31.mlp.w2.weight\n",
      "transformer.h.31.mlp.c_proj.weight\n",
      "transformer.ln_f.weight\n",
      "lm_head.weight\n"
     ]
    }
   ],
   "source": [
    "\n",
    "for name, param in model.named_parameters():\n",
    "    print(name)"
   ]
  },
  {
   "cell_type": "markdown",
   "metadata": {},
   "source": [
    "#### Lora"
   ]
  },
  {
   "cell_type": "code",
   "execution_count": 34,
   "metadata": {},
   "outputs": [
    {
     "data": {
      "text/plain": [
       "LoraConfig(peft_type=<PeftType.LORA: 'LORA'>, auto_mapping=None, base_model_name_or_path=None, revision=None, task_type=<TaskType.CAUSAL_LM: 'CAUSAL_LM'>, inference_mode=False, r=8, target_modules={'c_proj', 'c_attn', 'w2', 'w1'}, lora_alpha=32, lora_dropout=0.1, fan_in_fan_out=False, bias='none', use_rslora=False, modules_to_save=None, init_lora_weights=True, layers_to_transform=None, layers_pattern=None, rank_pattern={}, alpha_pattern={}, megatron_config=None, megatron_core='megatron.core', loftq_config={}, use_dora=False, layer_replication=None)"
      ]
     },
     "execution_count": 34,
     "metadata": {},
     "output_type": "execute_result"
    }
   ],
   "source": [
    "from peft import LoraConfig, TaskType, get_peft_model\n",
    "\n",
    "config = LoraConfig(\n",
    "    task_type=TaskType.CAUSAL_LM, \n",
    "    target_modules=[\"c_attn\", \"c_proj\", \"w1\", \"w2\"],\n",
    "    inference_mode=False, # 训练模式\n",
    "    r=8, # Lora 秩\n",
    "    lora_alpha=32, # Lora alaph，具体作用参见 Lora 原理\n",
    "    lora_dropout=0.1# Dropout 比例\n",
    ")\n",
    "config"
   ]
  },
  {
   "cell_type": "markdown",
   "metadata": {},
   "source": [
    "#### 配置训练参数"
   ]
  },
  {
   "cell_type": "code",
   "execution_count": 35,
   "metadata": {},
   "outputs": [],
   "source": [
    "args = TrainingArguments(\n",
    "    output_dir=\"./output/Qwen\",\n",
    "    per_device_train_batch_size=2,\n",
    "    gradient_accumulation_steps=8,\n",
    "    logging_steps=10,\n",
    "    num_train_epochs=3,\n",
    "    gradient_checkpointing=True,\n",
    "    save_steps=100,\n",
    "    learning_rate=1e-4,\n",
    "    save_on_each_node=True,\n",
    "    optim=\"paged_adamw_32bit\"  # 优化器类型\n",
    ")"
   ]
  },
  {
   "cell_type": "code",
   "execution_count": 37,
   "metadata": {},
   "outputs": [
    {
     "ename": "ValueError",
     "evalue": "You cannot perform fine-tuning on purely quantized models. Please attach trainable adapters on top of the quantized model to correctly perform fine-tuning. Please see: https://huggingface.co/docs/transformers/peft for more details",
     "output_type": "error",
     "traceback": [
      "\u001b[0;31m---------------------------------------------------------------------------\u001b[0m",
      "\u001b[0;31mValueError\u001b[0m                                Traceback (most recent call last)",
      "Cell \u001b[0;32mIn[37], line 1\u001b[0m\n\u001b[0;32m----> 1\u001b[0m trainer \u001b[38;5;241m=\u001b[39m \u001b[43mTrainer\u001b[49m\u001b[43m(\u001b[49m\n\u001b[1;32m      2\u001b[0m \u001b[43m    \u001b[49m\u001b[43mmodel\u001b[49m\u001b[38;5;241;43m=\u001b[39;49m\u001b[43mmodel\u001b[49m\u001b[43m,\u001b[49m\n\u001b[1;32m      3\u001b[0m \u001b[43m    \u001b[49m\u001b[43margs\u001b[49m\u001b[38;5;241;43m=\u001b[39;49m\u001b[43margs\u001b[49m\u001b[43m,\u001b[49m\n\u001b[1;32m      4\u001b[0m \u001b[43m    \u001b[49m\u001b[43mtrain_dataset\u001b[49m\u001b[38;5;241;43m=\u001b[39;49m\u001b[43mtokenized_id\u001b[49m\u001b[43m,\u001b[49m\n\u001b[1;32m      5\u001b[0m \u001b[43m    \u001b[49m\u001b[43mdata_collator\u001b[49m\u001b[38;5;241;43m=\u001b[39;49m\u001b[43mDataCollatorForSeq2Seq\u001b[49m\u001b[43m(\u001b[49m\u001b[43mtokenizer\u001b[49m\u001b[38;5;241;43m=\u001b[39;49m\u001b[43mtokenizer\u001b[49m\u001b[43m,\u001b[49m\u001b[43m \u001b[49m\u001b[43mpadding\u001b[49m\u001b[38;5;241;43m=\u001b[39;49m\u001b[38;5;28;43;01mTrue\u001b[39;49;00m\u001b[43m)\u001b[49m\u001b[43m,\u001b[49m\n\u001b[1;32m      6\u001b[0m \u001b[43m)\u001b[49m\n",
      "File \u001b[0;32m~/miniconda3/envs/mdllm/lib/python3.8/site-packages/transformers/trainer.py:408\u001b[0m, in \u001b[0;36mTrainer.__init__\u001b[0;34m(self, model, args, data_collator, train_dataset, eval_dataset, tokenizer, model_init, compute_metrics, callbacks, optimizers, preprocess_logits_for_metrics)\u001b[0m\n\u001b[1;32m    406\u001b[0m \u001b[38;5;66;03m# At this stage the model is already loaded\u001b[39;00m\n\u001b[1;32m    407\u001b[0m \u001b[38;5;28;01mif\u001b[39;00m _is_quantized_and_base_model \u001b[38;5;129;01mand\u001b[39;00m \u001b[38;5;129;01mnot\u001b[39;00m _is_peft_model:\n\u001b[0;32m--> 408\u001b[0m     \u001b[38;5;28;01mraise\u001b[39;00m \u001b[38;5;167;01mValueError\u001b[39;00m(\n\u001b[1;32m    409\u001b[0m         \u001b[38;5;124m\"\u001b[39m\u001b[38;5;124mYou cannot perform fine-tuning on purely quantized models. Please attach trainable adapters on top of\u001b[39m\u001b[38;5;124m\"\u001b[39m\n\u001b[1;32m    410\u001b[0m         \u001b[38;5;124m\"\u001b[39m\u001b[38;5;124m the quantized model to correctly perform fine-tuning. Please see: https://huggingface.co/docs/transformers/peft\u001b[39m\u001b[38;5;124m\"\u001b[39m\n\u001b[1;32m    411\u001b[0m         \u001b[38;5;124m\"\u001b[39m\u001b[38;5;124m for more details\u001b[39m\u001b[38;5;124m\"\u001b[39m\n\u001b[1;32m    412\u001b[0m     )\n\u001b[1;32m    413\u001b[0m \u001b[38;5;28;01melif\u001b[39;00m _is_quantized_and_base_model \u001b[38;5;129;01mand\u001b[39;00m \u001b[38;5;129;01mnot\u001b[39;00m \u001b[38;5;28mgetattr\u001b[39m(model, \u001b[38;5;124m\"\u001b[39m\u001b[38;5;124m_is_quantized_training_enabled\u001b[39m\u001b[38;5;124m\"\u001b[39m, \u001b[38;5;28;01mFalse\u001b[39;00m):\n\u001b[1;32m    414\u001b[0m     \u001b[38;5;28;01mraise\u001b[39;00m \u001b[38;5;167;01mValueError\u001b[39;00m(\n\u001b[1;32m    415\u001b[0m         \u001b[38;5;124m\"\u001b[39m\u001b[38;5;124mThe model you want to train is loaded in 8-bit precision.  if you want to fine-tune an 8-bit\u001b[39m\u001b[38;5;124m\"\u001b[39m\n\u001b[1;32m    416\u001b[0m         \u001b[38;5;124m\"\u001b[39m\u001b[38;5;124m model, please make sure that you have installed `bitsandbytes>=0.37.0`. \u001b[39m\u001b[38;5;124m\"\u001b[39m\n\u001b[1;32m    417\u001b[0m     )\n",
      "\u001b[0;31mValueError\u001b[0m: You cannot perform fine-tuning on purely quantized models. Please attach trainable adapters on top of the quantized model to correctly perform fine-tuning. Please see: https://huggingface.co/docs/transformers/peft for more details"
     ]
    }
   ],
   "source": [
    "trainer = Trainer(\n",
    "    model=model,\n",
    "    args=args,\n",
    "    train_dataset=tokenized_id,\n",
    "    data_collator=DataCollatorForSeq2Seq(tokenizer=tokenizer, padding=True),\n",
    ")"
   ]
  },
  {
   "cell_type": "code",
   "execution_count": null,
   "metadata": {},
   "outputs": [],
   "source": []
  }
 ],
 "metadata": {
  "kernelspec": {
   "display_name": "mdllm",
   "language": "python",
   "name": "python3"
  },
  "language_info": {
   "codemirror_mode": {
    "name": "ipython",
    "version": 3
   },
   "file_extension": ".py",
   "mimetype": "text/x-python",
   "name": "python",
   "nbconvert_exporter": "python",
   "pygments_lexer": "ipython3",
   "version": "3.8.19"
  }
 },
 "nbformat": 4,
 "nbformat_minor": 2
}
